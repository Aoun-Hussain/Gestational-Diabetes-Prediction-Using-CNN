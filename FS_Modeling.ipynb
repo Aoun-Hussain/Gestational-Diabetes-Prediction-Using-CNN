{
 "cells": [
  {
   "cell_type": "markdown",
   "metadata": {},
   "source": [
    "# Modeling\n",
    "\n",
    "Our baseline model is a random forest classifier.Following steps will be performed to optimize the model:\n",
    "\n",
    "1. Feature selection using Recursive Feature Selection with cross-validation on entire dataset\n",
    "2. Avoid redundancy\n",
    "3. Create balanced dataset\n",
    "4. Tune hyperparameters\n",
    "5. Validate model"
   ]
  },
  {
   "cell_type": "code",
   "execution_count": 2,
   "metadata": {},
   "outputs": [],
   "source": [
    "import numpy as np\n",
    "import pandas as pd\n",
    "from pandas import read_csv\n",
    "from sklearn.model_selection import cross_val_score\n",
    "from sklearn.model_selection import RepeatedStratifiedKFold\n",
    "from sklearn.naive_bayes import GaussianNB\n",
    "from sklearn.gaussian_process import GaussianProcessClassifier\n",
    "from sklearn.model_selection import train_test_split\n",
    "from matplotlib import pyplot as plt\n",
    "from matplotlib import cm\n",
    "from sklearn.ensemble import RandomForestClassifier\n",
    "from sklearn.feature_selection import RFECV\n",
    "from sklearn.model_selection import StratifiedKFold\n",
    "from sqlalchemy import create_engine\n",
    "import psycopg2"
   ]
  },
  {
   "cell_type": "code",
   "execution_count": 2,
   "metadata": {},
   "outputs": [
    {
     "data": {
      "text/plain": [
       "((132, 9), (132,))"
      ]
     },
     "execution_count": 2,
     "metadata": {},
     "output_type": "execute_result"
    }
   ],
   "source": [
    "#Read file\n",
    "full_path='../data/processed/mean_impute_all_features.csv'\n",
    "dataframe = read_csv(full_path)\n",
    "dataframe.reset_index(drop=True, inplace=True)\n",
    "X, y= dataframe.drop('gestational dm', axis=1), dataframe['gestational dm'] \n",
    "seed=10\n",
    "\n",
    "#Splitting X,y into Train & Test\n",
    "X_train, X_test, y_train, y_test = train_test_split(X, y, test_size=0.20, random_state=0, stratify=y)\n",
    "X.shape, y.shape"
   ]
  },
  {
   "cell_type": "code",
   "execution_count": 81,
   "metadata": {},
   "outputs": [],
   "source": [
    "#Setting up connection to postgres db\n",
    "# rds_connection_string = \"<postgres>:<password>@localhost:5432/insight_project\"\n",
    "# # engine = create_engine(f'postgresql://{rds_connection_string}')\n",
    "# engine = create_engine(f'postgres+psycopg2://{rds_connection_string}')\n",
    "# engine.table_names()"
   ]
  },
  {
   "cell_type": "code",
   "execution_count": 85,
   "metadata": {},
   "outputs": [],
   "source": [
    "#Functions:\n",
    "# Check if the labels are well shuffled in train and test set, to avoid imbalanced data\n",
    "def bin_count(y_train, y_test):\n",
    "    \"\"\"\n",
    "    Function to check class distribution in train and test set\n",
    "    Arguments:y_train and y_test\n",
    "    Returns: Prints bincount per class for each set\n",
    "    \"\"\"\n",
    "    a,b=np.bincount(y_train)\n",
    "    print(f\"Percentage of data distribution in the train set:\")\n",
    "    print(round(a/(a+b)*100,2))\n",
    "    print(round(b/(a+b)*100,2))\n",
    "    print(\"-------------------\")\n",
    "    x,y=np.bincount(y_test)\n",
    "    print(f\"Percentage of data distribution in the test set:\")\n",
    "    print(round(x/(x+y)*100,2))\n",
    "    print(round(y/(x+y)*100,2))\n",
    "\n",
    "#Confusion matrix\n",
    "from sklearn.metrics import confusion_matrix\n",
    "import seaborn as sns\n",
    "def conf_matrix(y_test, y_pred):\n",
    "    \"\"\"Function to generate confusion matrix and generate report\n",
    "       Arg: true labels and predicted labels array\n",
    "    \"\"\"\n",
    "    cm = confusion_matrix(y_test, y_pred)\n",
    "    f, ax = plt.subplots(figsize=(5,5))\n",
    "    sns.heatmap(cm,fmt=\".0f\", annot=True, linewidths=0.2, linecolor=\"purple\", ax=ax)\n",
    "    plt.xlabel(\"Predicted\")\n",
    "    plt.ylabel(\"Grand Truth\")\n",
    "    plt.show()\n",
    "    TN = cm[0,0]\n",
    "    TP = cm[1,1]\n",
    "    FN = cm[1,0]\n",
    "    FP = cm[0,1]\n",
    "    Precision = TP/(TP+FP)\n",
    "    Recall = TP/(TP+FN)\n",
    "    F1_Score = 2*(Recall * Precision) / (Recall + Precision)\n",
    "    return pd.DataFrame([[Precision, Recall, F1_Score]],columns=[\"Precision\", \"Recall\", \"F1 Score\"], index=[\"Results\"])\n",
    "\n",
    "#Train random forst model\n",
    "from sklearn.metrics import classification_report, confusion_matrix\n",
    "from sklearn import metrics\n",
    "def randomForest(X_train, X_test, y_train, y_test):\n",
    "    \"\"\"\n",
    "    Function to train model\n",
    "    Argumens: train and test data\n",
    "    Returns: Score, classification report, model\n",
    "    \"\"\"\n",
    "    rf = RandomForestClassifier(random_state=seed)\n",
    "    rf.fit(X_train, y_train)\n",
    "    y_pred = rf.predict(X_test)\n",
    "    score = metrics.accuracy_score(y_test, y_pred) * 100\n",
    "    report = classification_report(y_test, y_pred)\n",
    "    return score, report, rf, y_pred"
   ]
  },
  {
   "cell_type": "markdown",
   "metadata": {},
   "source": [
    "## Feature Selection"
   ]
  },
  {
   "cell_type": "code",
   "execution_count": 89,
   "metadata": {},
   "outputs": [
    {
     "name": "stdout",
     "output_type": "stream",
     "text": [
      "Optimal number of features : 8\n"
     ]
    },
    {
     "data": {
      "image/png": "[encoded data removed]",
      "text/plain": [
       "<Figure size 432x288 with 1 Axes>"
      ]
     },
     "metadata": {
      "needs_background": "light"
     },
     "output_type": "display_data"
    },
    {
     "data": {
      "text/plain": [
       "<Figure size 432x288 with 0 Axes>"
      ]
     },
     "metadata": {},
     "output_type": "display_data"
    }
   ],
   "source": [
    "#RFECV using RF estimator\n",
    "rfc = RandomForestClassifier(random_state=101)\n",
    "rfecv = RFECV(estimator=rfc, step=1, cv=StratifiedKFold(5), scoring='accuracy')\n",
    "selector=rfecv.fit(X, y)\n",
    "selector\n",
    "print(\"Optimal number of features : %d\" % selector.n_features_)\n",
    "plt.figure()\n",
    "plt.title('RFE CV score vs Number of Features', fontsize=13)\n",
    "plt.xlabel(\"Number of features selected\", fontsize=13)\n",
    "plt.ylabel(\"Cross validation score\", fontsize=13)\n",
    "plt.plot(range(1, len(rfecv.grid_scores_) + 1), rfecv.grid_scores_)\n",
    "plt.show();\n",
    "plt.savefig(\"Feature_selection\");"
   ]
  },
  {
   "cell_type": "markdown",
   "metadata": {},
   "source": [
    "8 features required for optimum accuracy"
   ]
  },
  {
   "cell_type": "code",
   "execution_count": 20,
   "metadata": {},
   "outputs": [
    {
     "name": "stdout",
     "output_type": "stream",
     "text": [
      "['age (years)', 'mean diastolic bp (mmhg)', 'mean systolic bp (mmhg)', 'central armellini fat (mm)', 'current gestational age', 'pregnancies (number)', 'first fasting glucose (mg/dl)', 'bmi pregestational (kg/m)']\n"
     ]
    }
   ],
   "source": [
    "#Check the names of features to be retained \n",
    "feature_names=X.columns\n",
    "feature_importance = list(zip(feature_names, rfecv.support_))\n",
    "new_features = []\n",
    "for key,value in enumerate(feature_importance):\n",
    "    if(value[1]) == True:\n",
    "        new_features.append(value[0])\n",
    "print(new_features)"
   ]
  },
  {
   "cell_type": "markdown",
   "metadata": {},
   "source": [
    "Ethnicity is dropped"
   ]
  },
  {
   "cell_type": "code",
   "execution_count": 92,
   "metadata": {},
   "outputs": [
    {
     "name": "stdout",
     "output_type": "stream",
     "text": [
      "Percentage of data distribution in the train set:\n",
      "86.67\n",
      "13.33\n",
      "-------------------\n",
      "Percentage of data distribution in the test set:\n",
      "85.19\n",
      "14.81\n"
     ]
    }
   ],
   "source": [
    "#First drop only the feature suggested\n",
    "features=X.drop(['ethnicity'], axis=1)\n",
    "features.head()\n",
    "\n",
    "#Splitting X,y into Train & Test\n",
    "X_train, X_test, y_train, y_test = train_test_split(features, y, test_size=0.20, random_state=seed, stratify=y)\n",
    "bin_count(y_train, y_test)"
   ]
  },
  {
   "cell_type": "code",
   "execution_count": 93,
   "metadata": {},
   "outputs": [
    {
     "data": {
      "image/png": "[encoded data removed]",
      "text/plain": [
       "<Figure size 360x360 with 2 Axes>"
      ]
     },
     "metadata": {
      "needs_background": "light"
     },
     "output_type": "display_data"
    },
    {
     "data": {
      "text/html": [
       "<div>\n",
       "<style scoped>\n",
       "    .dataframe tbody tr th:only-of-type {\n",
       "        vertical-align: middle;\n",
       "    }\n",
       "\n",
       "    .dataframe tbody tr th {\n",
       "        vertical-align: top;\n",
       "    }\n",
       "\n",
       "    .dataframe thead th {\n",
       "        text-align: right;\n",
       "    }\n",
       "</style>\n",
       "<table border=\"1\" class=\"dataframe\">\n",
       "  <thead>\n",
       "    <tr style=\"text-align: right;\">\n",
       "      <th></th>\n",
       "      <th>Precision</th>\n",
       "      <th>Recall</th>\n",
       "      <th>F1 Score</th>\n",
       "    </tr>\n",
       "  </thead>\n",
       "  <tbody>\n",
       "    <tr>\n",
       "      <th>Results</th>\n",
       "      <td>0.5</td>\n",
       "      <td>0.25</td>\n",
       "      <td>0.333333</td>\n",
       "    </tr>\n",
       "  </tbody>\n",
       "</table>\n",
       "</div>"
      ],
      "text/plain": [
       "         Precision  Recall  F1 Score\n",
       "Results        0.5    0.25  0.333333"
      ]
     },
     "execution_count": 93,
     "metadata": {},
     "output_type": "execute_result"
    }
   ],
   "source": [
    "#Train default model\n",
    "score, report, rf, y_pred =randomForest(X_train, X_test, y_train, y_test)\n",
    "conf_matrix(y_test,y_pred)"
   ]
  },
  {
   "cell_type": "code",
   "execution_count": 94,
   "metadata": {},
   "outputs": [
    {
     "data": {
      "text/plain": [
       "((105, 6), (105,))"
      ]
     },
     "execution_count": 94,
     "metadata": {},
     "output_type": "execute_result"
    }
   ],
   "source": [
    "#Redo by dropping correlated features:\n",
    "data=X.drop(['ethnicity', 'central armellini fat (mm)', 'mean diastolic bp (mmhg)'], axis=1)\n",
    "data.tail()\n",
    "#Splitting X,y into Train & Test\n",
    "X_train, X_test, y_train, y_test = train_test_split(data, y, test_size=0.20, random_state=seed, stratify=y)\n",
    "X_train.shape, y_train.shape"
   ]
  },
  {
   "cell_type": "code",
   "execution_count": 95,
   "metadata": {},
   "outputs": [
    {
     "data": {
      "image/png": "[encoded data removed]",
      "text/plain": [
       "<Figure size 360x360 with 2 Axes>"
      ]
     },
     "metadata": {
      "needs_background": "light"
     },
     "output_type": "display_data"
    },
    {
     "data": {
      "text/html": [
       "<div>\n",
       "<style scoped>\n",
       "    .dataframe tbody tr th:only-of-type {\n",
       "        vertical-align: middle;\n",
       "    }\n",
       "\n",
       "    .dataframe tbody tr th {\n",
       "        vertical-align: top;\n",
       "    }\n",
       "\n",
       "    .dataframe thead th {\n",
       "        text-align: right;\n",
       "    }\n",
       "</style>\n",
       "<table border=\"1\" class=\"dataframe\">\n",
       "  <thead>\n",
       "    <tr style=\"text-align: right;\">\n",
       "      <th></th>\n",
       "      <th>Precision</th>\n",
       "      <th>Recall</th>\n",
       "      <th>F1 Score</th>\n",
       "    </tr>\n",
       "  </thead>\n",
       "  <tbody>\n",
       "    <tr>\n",
       "      <th>Results</th>\n",
       "      <td>0.5</td>\n",
       "      <td>0.25</td>\n",
       "      <td>0.333333</td>\n",
       "    </tr>\n",
       "  </tbody>\n",
       "</table>\n",
       "</div>"
      ],
      "text/plain": [
       "         Precision  Recall  F1 Score\n",
       "Results        0.5    0.25  0.333333"
      ]
     },
     "execution_count": 95,
     "metadata": {},
     "output_type": "execute_result"
    }
   ],
   "source": [
    "score, report, rf, y_pred =randomForest(X_train, X_test, y_train, y_test)\n",
    "conf_matrix(y_test,y_pred)"
   ]
  },
  {
   "cell_type": "code",
   "execution_count": 96,
   "metadata": {},
   "outputs": [
    {
     "data": {
      "text/plain": [
       "((105, 7), (105,))"
      ]
     },
     "execution_count": 96,
     "metadata": {},
     "output_type": "execute_result"
    }
   ],
   "source": [
    "#Lets try Feature Engineering a new column (SysP-DiasP),\n",
    "X[\"BP\"]=X['mean systolic bp (mmhg)'] - X['mean diastolic bp (mmhg)']\n",
    "data=X.drop(['ethnicity', 'mean diastolic bp (mmhg)', 'mean systolic bp (mmhg)'], axis=1)\n",
    "data.tail()\n",
    "#Splitting X,y into Train & Test\n",
    "X_train, X_test, y_train, y_test = train_test_split(data, y, test_size=0.20, random_state=seed, stratify=y)\n",
    "X_train.shape, y_train.shape"
   ]
  },
  {
   "cell_type": "code",
   "execution_count": 97,
   "metadata": {},
   "outputs": [
    {
     "data": {
      "image/png": "[encoded data removed]",
      "text/plain": [
       "<Figure size 360x360 with 2 Axes>"
      ]
     },
     "metadata": {
      "needs_background": "light"
     },
     "output_type": "display_data"
    },
    {
     "data": {
      "text/html": [
       "<div>\n",
       "<style scoped>\n",
       "    .dataframe tbody tr th:only-of-type {\n",
       "        vertical-align: middle;\n",
       "    }\n",
       "\n",
       "    .dataframe tbody tr th {\n",
       "        vertical-align: top;\n",
       "    }\n",
       "\n",
       "    .dataframe thead th {\n",
       "        text-align: right;\n",
       "    }\n",
       "</style>\n",
       "<table border=\"1\" class=\"dataframe\">\n",
       "  <thead>\n",
       "    <tr style=\"text-align: right;\">\n",
       "      <th></th>\n",
       "      <th>Precision</th>\n",
       "      <th>Recall</th>\n",
       "      <th>F1 Score</th>\n",
       "    </tr>\n",
       "  </thead>\n",
       "  <tbody>\n",
       "    <tr>\n",
       "      <th>Results</th>\n",
       "      <td>0.333333</td>\n",
       "      <td>0.25</td>\n",
       "      <td>0.285714</td>\n",
       "    </tr>\n",
       "  </tbody>\n",
       "</table>\n",
       "</div>"
      ],
      "text/plain": [
       "         Precision  Recall  F1 Score\n",
       "Results   0.333333    0.25  0.285714"
      ]
     },
     "execution_count": 97,
     "metadata": {},
     "output_type": "execute_result"
    }
   ],
   "source": [
    "score, report, rf, y_pred =randomForest(X_train, X_test, y_train, y_test)\n",
    "conf_matrix(y_test,y_pred)"
   ]
  },
  {
   "cell_type": "code",
   "execution_count": 98,
   "metadata": {},
   "outputs": [
    {
     "data": {
      "text/plain": [
       "81.48148148148148"
      ]
     },
     "execution_count": 98,
     "metadata": {},
     "output_type": "execute_result"
    }
   ],
   "source": [
    "score"
   ]
  },
  {
   "cell_type": "markdown",
   "metadata": {},
   "source": [
    "## Create balanced dataset"
   ]
  },
  {
   "cell_type": "code",
   "execution_count": 122,
   "metadata": {},
   "outputs": [
    {
     "name": "stdout",
     "output_type": "stream",
     "text": [
      "Oversampling value counts: 1    114\n",
      "0    114\n",
      "Name: gestational dm, dtype: int64\n"
     ]
    },
    {
     "data": {
      "image/png": "[encoded data removed]",
      "text/plain": [
       "<Figure size 216x216 with 1 Axes>"
      ]
     },
     "metadata": {
      "needs_background": "light"
     },
     "output_type": "display_data"
    }
   ],
   "source": [
    "from sklearn.utils import resample\n",
    "\n",
    "# separate minority and majority classes\n",
    "majority = dataframe[dataframe['gestational dm']==0]\n",
    "minority = dataframe[dataframe['gestational dm']==1]\n",
    "\n",
    "# upsample minority\n",
    "upsampled = resample(minority,\n",
    "                          replace=True, # sample with replacement\n",
    "                          n_samples=len(majority), # match number in majority class\n",
    "                          random_state=seed) # reproducible results\n",
    "\n",
    "# combine majority and upsampled minority\n",
    "upsampled_data = pd.concat([majority, upsampled])\n",
    "\n",
    "\n",
    "# checking counts after resampling from both the techniques\n",
    "print(f\"Oversampling value counts: {upsampled_data['gestational dm'].value_counts()}\")\n",
    "\n",
    "upsampled_data['gestational dm'].hist(figsize=(3,3), color=\"brown\",alpha=0.7, grid=False);\n",
    "plt.savefig(\"balanced_distribution\")"
   ]
  },
  {
   "cell_type": "code",
   "execution_count": 105,
   "metadata": {},
   "outputs": [
    {
     "data": {
      "text/plain": [
       "((182, 6), (182,))"
      ]
     },
     "execution_count": 105,
     "metadata": {},
     "output_type": "execute_result"
    }
   ],
   "source": [
    "#Split oversampled dataset with stratification and drop redundant features\n",
    "y = upsampled_data['gestational dm']\n",
    "X = upsampled_data.drop(['gestational dm','ethnicity', 'central armellini fat (mm)', 'mean diastolic bp (mmhg)'], axis=1)\n",
    "X_train, X_test, y_train, y_test = train_test_split(X, y, test_size=0.20, random_state=seed, stratify=y)\n",
    "X_train.shape, y_train.shape"
   ]
  },
  {
   "cell_type": "code",
   "execution_count": 106,
   "metadata": {},
   "outputs": [
    {
     "data": {
      "image/png": "[encoded data removed]",
      "text/plain": [
       "<Figure size 360x360 with 2 Axes>"
      ]
     },
     "metadata": {
      "needs_background": "light"
     },
     "output_type": "display_data"
    },
    {
     "data": {
      "image/png": "[encoded data removed]",
      "text/plain": [
       "<Figure size 360x360 with 2 Axes>"
      ]
     },
     "metadata": {
      "needs_background": "light"
     },
     "output_type": "display_data"
    },
    {
     "data": {
      "image/png": "[encoded data removed]",
      "text/plain": [
       "<Figure size 360x360 with 2 Axes>"
      ]
     },
     "metadata": {
      "needs_background": "light"
     },
     "output_type": "display_data"
    },
    {
     "data": {
      "text/plain": [
       "(         Precision  Recall  F1 Score\n",
       " Results   0.884615     1.0  0.938776,\n",
       "          Precision  Recall  F1 Score\n",
       " Results   0.884615     1.0  0.938776,\n",
       "          Precision   Recall  F1 Score\n",
       " Results   0.809524  0.73913  0.772727)"
      ]
     },
     "execution_count": 106,
     "metadata": {},
     "output_type": "execute_result"
    }
   ],
   "source": [
    "# #Balance class weight drop ethnicity:\n",
    "from sklearn.naive_bayes import GaussianNB\n",
    "from sklearn.ensemble import RandomForestClassifier\n",
    "from sklearn.ensemble import GradientBoostingClassifier\n",
    "from sklearn.metrics import accuracy_score\n",
    "\n",
    "rf_model=RandomForestClassifier(random_state=seed).fit(X_train, y_train)\n",
    "gb_model=RandomForestClassifier(random_state=seed).fit(X_train, y_train)\n",
    "GradientBoostingClassifier(random_state=seed)\n",
    "gnb_model=GaussianNB().fit(X_train, y_train)\n",
    "rf_pred=rf_model.predict(X_test)\n",
    "gb_pred=gb_model.predict(X_test)\n",
    "gnb_pred=gnb_model.predict(X_test)\n",
    "score=accuracy_score(y_test, rf_pred)\n",
    "conf_matrix(y_test,rf_pred),conf_matrix(y_test,gb_pred),conf_matrix(y_test,gnb_pred)\n",
    "# X_train.shape"
   ]
  },
  {
   "cell_type": "code",
   "execution_count": 38,
   "metadata": {},
   "outputs": [
    {
     "data": {
      "text/plain": [
       "(array([[0.45, 0.55]]),\n",
       " array([[0.45, 0.55]]),\n",
       " array([[0.10806874, 0.89193126]]))"
      ]
     },
     "execution_count": 38,
     "metadata": {},
     "output_type": "execute_result"
    }
   ],
   "source": [
    "#Test a sample:\n",
    "Normal=[20, 113, 16.2, 3, 80, 29]\n",
    "Between=[28, 120, 16.2, 4, 83, 31]\n",
    "Pos=[33, 137, 18, 5, 86, 35.8]\n",
    "B=np.array(Pos)\n",
    "# B\n",
    "C=B.reshape(1, -1)\n",
    "rf_model.predict_proba(C), gb_model.predict_proba(C), gnb_model.predict_proba(C)"
   ]
  },
  {
   "cell_type": "code",
   "execution_count": 39,
   "metadata": {},
   "outputs": [
    {
     "data": {
      "text/plain": [
       "RandomForestClassifier(bootstrap=True, ccp_alpha=0.0, class_weight=None,\n",
       "                       criterion='gini', max_depth=None, max_features='auto',\n",
       "                       max_leaf_nodes=None, max_samples=None,\n",
       "                       min_impurity_decrease=0.0, min_impurity_split=None,\n",
       "                       min_samples_leaf=1, min_samples_split=2,\n",
       "                       min_weight_fraction_leaf=0.0, n_estimators=100,\n",
       "                       n_jobs=None, oob_score=False, random_state=10, verbose=0,\n",
       "                       warm_start=False)"
      ]
     },
     "execution_count": 39,
     "metadata": {},
     "output_type": "execute_result"
    }
   ],
   "source": [
    "rf_model"
   ]
  },
  {
   "cell_type": "code",
   "execution_count": 44,
   "metadata": {},
   "outputs": [
    {
     "data": {
      "text/plain": [
       "[(0.2541508643770216, 'first fasting glucose (mg/dl)'),\n",
       " (0.22744195562344355, 'pregnancies (number)'),\n",
       " (0.17139070738135395, 'bmi pregestational (kg/m)'),\n",
       " (0.12878442191531328, 'age (years)'),\n",
       " (0.12302052340147678, 'current gestational age'),\n",
       " (0.09521152730139079, 'mean systolic bp (mmhg)')]"
      ]
     },
     "execution_count": 44,
     "metadata": {},
     "output_type": "execute_result"
    }
   ],
   "source": [
    "# Get numerical feature importances\n",
    "sorted(zip(rf_model.feature_importances_, X.columns), reverse=True)"
   ]
  },
  {
   "cell_type": "code",
   "execution_count": 109,
   "metadata": {},
   "outputs": [
    {
     "data": {
      "image/png": "[encoded data removed]",
      "text/plain": [
       "<Figure size 360x360 with 2 Axes>"
      ]
     },
     "metadata": {
      "needs_background": "light"
     },
     "output_type": "display_data"
    },
    {
     "data": {
      "text/plain": [
       "(         Precision  Recall  F1 Score\n",
       " Results   0.884615     1.0  0.938776,\n",
       " 0.9347826086956522)"
      ]
     },
     "execution_count": 109,
     "metadata": {},
     "output_type": "execute_result"
    }
   ],
   "source": [
    "#Try dropping 'mean systolic bp (mmhg)' as it is least important\n",
    "X=X.drop(['mean systolic bp (mmhg)'], axis=1)\n",
    "X_train, X_test, y_train, y_test = train_test_split(X, y, test_size=0.20, random_state=seed, stratify=y)\n",
    "rf_model_sys=RandomForestClassifier(random_state=seed).fit(X_train, y_train)\n",
    "rf_pred_sys=rf_model_sys.predict(X_test)\n",
    "score=accuracy_score(y_test, rf_pred_sys)\n",
    "conf_matrix(y_test,rf_pred_sys),score"
   ]
  },
  {
   "cell_type": "markdown",
   "metadata": {},
   "source": [
    "Dropping mean systolic pressure didn't impact the scores, but reduced time"
   ]
  },
  {
   "cell_type": "code",
   "execution_count": 51,
   "metadata": {},
   "outputs": [
    {
     "name": "stdout",
     "output_type": "stream",
     "text": [
      "{'n_estimators': [200, 400, 600, 800, 1000, 1200, 1400, 1600, 1800, 2000], 'max_features': ['auto', 'sqrt'], 'max_depth': [10, 20, 30, 40, 50, 60, 70, 80, 90, 100, 110, None], 'min_samples_split': [2, 5, 10], 'min_samples_leaf': [1, 2, 4], 'bootstrap': [True, False]}\n"
     ]
    }
   ],
   "source": [
    "#Hyperparameter tuning:(Altogether, there are 2 * 12 * 2 * 3 * 3 * 10 = 4320 settings!)\n",
    "from sklearn.model_selection import RandomizedSearchCV\n",
    "# Number of trees in random forest\n",
    "n_estimators = [int(x) for x in np.linspace(start = 200, stop = 2000, num = 10)]\n",
    "# Number of features to consider at every split\n",
    "max_features = ['auto', 'sqrt']\n",
    "# Maximum number of levels in tree\n",
    "max_depth = [int(x) for x in np.linspace(10, 110, num = 11)]\n",
    "max_depth.append(None)\n",
    "# Minimum number of samples required to split a node\n",
    "min_samples_split = [2, 5, 10]\n",
    "# Minimum number of samples required at each leaf node\n",
    "min_samples_leaf = [1, 2, 4]\n",
    "# Method of selecting samples for training each tree\n",
    "bootstrap = [True, False]\n",
    "\n",
    "\n",
    "# Create the random grid\n",
    "random_grid = {'n_estimators': n_estimators,\n",
    "               'max_features': max_features,\n",
    "               'max_depth': max_depth,\n",
    "               'min_samples_split': min_samples_split,\n",
    "               'min_samples_leaf': min_samples_leaf,\n",
    "               'bootstrap': bootstrap}\n",
    "print(random_grid)"
   ]
  },
  {
   "cell_type": "code",
   "execution_count": 55,
   "metadata": {},
   "outputs": [
    {
     "name": "stdout",
     "output_type": "stream",
     "text": [
      "Fitting 3 folds for each of 100 candidates, totalling 300 fits\n"
     ]
    },
    {
     "name": "stderr",
     "output_type": "stream",
     "text": [
      "[Parallel(n_jobs=-1)]: Using backend LokyBackend with 4 concurrent workers.\n",
      "[Parallel(n_jobs=-1)]: Done  33 tasks      | elapsed:   24.7s\n",
      "[Parallel(n_jobs=-1)]: Done 154 tasks      | elapsed:  1.7min\n",
      "[Parallel(n_jobs=-1)]: Done 300 out of 300 | elapsed:  3.2min finished\n"
     ]
    },
    {
     "data": {
      "text/plain": [
       "{'n_estimators': 200,\n",
       " 'min_samples_split': 5,\n",
       " 'min_samples_leaf': 1,\n",
       " 'max_features': 'auto',\n",
       " 'max_depth': None,\n",
       " 'bootstrap': False}"
      ]
     },
     "execution_count": 55,
     "metadata": {},
     "output_type": "execute_result"
    }
   ],
   "source": [
    "# Use the random grid to search for best hyperparameters\n",
    "# First create the base model to tune\n",
    "rf = RandomForestClassifier()\n",
    "# Random search of parameters, using 3 fold cross validation, \n",
    "# search across 100 different combinations, and use all available cores\n",
    "rf_random = RandomizedSearchCV(estimator = rf, param_distributions = random_grid, n_iter = 100, cv = 3, verbose=2, random_state=seed, n_jobs = -1)\n",
    "# Fit the random search model\n",
    "rf_random.fit(X_train, y_train)\n",
    "rf_random.best_params_"
   ]
  },
  {
   "cell_type": "code",
   "execution_count": 110,
   "metadata": {},
   "outputs": [
    {
     "data": {
      "image/png": "[encoded data removed]",
      "text/plain": [
       "<Figure size 360x360 with 2 Axes>"
      ]
     },
     "metadata": {
      "needs_background": "light"
     },
     "output_type": "display_data"
    },
    {
     "data": {
      "text/html": [
       "<div>\n",
       "<style scoped>\n",
       "    .dataframe tbody tr th:only-of-type {\n",
       "        vertical-align: middle;\n",
       "    }\n",
       "\n",
       "    .dataframe tbody tr th {\n",
       "        vertical-align: top;\n",
       "    }\n",
       "\n",
       "    .dataframe thead th {\n",
       "        text-align: right;\n",
       "    }\n",
       "</style>\n",
       "<table border=\"1\" class=\"dataframe\">\n",
       "  <thead>\n",
       "    <tr style=\"text-align: right;\">\n",
       "      <th></th>\n",
       "      <th>Precision</th>\n",
       "      <th>Recall</th>\n",
       "      <th>F1 Score</th>\n",
       "    </tr>\n",
       "  </thead>\n",
       "  <tbody>\n",
       "    <tr>\n",
       "      <th>Results</th>\n",
       "      <td>0.92</td>\n",
       "      <td>1.0</td>\n",
       "      <td>0.958333</td>\n",
       "    </tr>\n",
       "  </tbody>\n",
       "</table>\n",
       "</div>"
      ],
      "text/plain": [
       "         Precision  Recall  F1 Score\n",
       "Results       0.92     1.0  0.958333"
      ]
     },
     "execution_count": 110,
     "metadata": {},
     "output_type": "execute_result"
    }
   ],
   "source": [
    "best_tree = rf_random.best_estimator_.fit(X_train, y_train)\n",
    "best_pred=best_tree.predict(X_test)\n",
    "best_score=accuracy_score(y_test, best_pred)\n",
    "conf_matrix(y_test,best_pred)"
   ]
  },
  {
   "cell_type": "code",
   "execution_count": 61,
   "metadata": {},
   "outputs": [
    {
     "name": "stdout",
     "output_type": "stream",
     "text": [
      "Improvement of 2.33%.\n"
     ]
    }
   ],
   "source": [
    "print('Improvement of {:0.2f}%.'.format( 100 * (best_score - score) / score))"
   ]
  },
  {
   "cell_type": "markdown",
   "metadata": {},
   "source": [
    "Reference: https://towardsdatascience.com/hyperparameter-tuning-the-random-forest-in-python-using-scikit-learn-28d2aa77dd74"
   ]
  },
  {
   "cell_type": "code",
   "execution_count": 123,
   "metadata": {},
   "outputs": [
    {
     "data": {
      "text/plain": [
       "0.998109640831758"
      ]
     },
     "execution_count": 123,
     "metadata": {},
     "output_type": "execute_result"
    }
   ],
   "source": [
    "from sklearn.metrics import roc_curve, auc\n",
    "from sklearn.metrics import roc_auc_score\n",
    "\n",
    "# First grab positive class prediction probabilities\n",
    "y_prob = best_tree.predict_proba(X_test)[:,1] \n",
    "\n",
    "# Threshold for probabilities that give class predictions.\n",
    "y_pred = np.where(y_prob > 0.5, 1, 0) \n",
    "best_tree.score(X_test, y_pred)\n",
    "confusion_matrix=metrics.confusion_matrix(y_test,y_pred)\n",
    "auc_roc=metrics.classification_report(y_test,y_pred)\n",
    "auc_roc\n",
    "auc_roc=metrics.roc_auc_score(y_test,y_pred)\n",
    "auc_roc\n",
    "\n",
    "false_positive_rate, true_positive_rate, thresholds = roc_curve(y_test, y_prob)\n",
    "roc_auc = auc(false_positive_rate, true_positive_rate)\n",
    "roc_auc"
   ]
  },
  {
   "cell_type": "code",
   "execution_count": 130,
   "metadata": {},
   "outputs": [
    {
     "name": "stderr",
     "output_type": "stream",
     "text": [
      "<ipython-input-130-dcad6a1fa491>:7: MatplotlibDeprecationWarning: Passing unsupported keyword arguments to axis() will raise a TypeError in 3.3.\n",
      "  plt.axis('tight', fontsize=19)\n"
     ]
    },
    {
     "data": {
      "image/png": "[encoded data removed]",
      "text/plain": [
       "<Figure size 504x504 with 1 Axes>"
      ]
     },
     "metadata": {
      "needs_background": "light"
     },
     "output_type": "display_data"
    }
   ],
   "source": [
    "import matplotlib.pyplot as plt\n",
    "plt.figure(figsize=(7,7))\n",
    "plt.title('Receiver Operating Characteristic')\n",
    "plt.plot(false_positive_rate,true_positive_rate, color='red',label = 'AUC = %0.2f' % roc_auc)\n",
    "plt.legend(loc = 'lower right')\n",
    "plt.plot([0, 1], [0, 1],linestyle='--')\n",
    "plt.axis('tight', fontsize=19)\n",
    "plt.ylabel('True Positive Rate', fontsize=20)\n",
    "plt.xlabel('False Positive Rate', fontsize=20)\n",
    "plt.savefig(\"AUC.png\")"
   ]
  },
  {
   "cell_type": "code",
   "execution_count": 119,
   "metadata": {},
   "outputs": [],
   "source": [
    "#Save the model to disk and load model and use\n",
    "import pickle\n",
    "pickle.dump(best_tree,open('../models/model_tree.pkl','wb') )"
   ]
  },
  {
   "cell_type": "code",
   "execution_count": 38,
   "metadata": {},
   "outputs": [
    {
     "data": {
      "image/png": "[encoded data removed]",
      "text/plain": [
       "<Figure size 576x432 with 1 Axes>"
      ]
     },
     "metadata": {
      "needs_background": "light"
     },
     "output_type": "display_data"
    }
   ],
   "source": [
    "#Compare difference between final and baseline model\n",
    "labels = [\"Precision\", \"Recall\", \"F-1 score\"]  \n",
    "Tuned_model = [92, 100, 95.8]\n",
    "Baseline = [66, 50, 57]\n",
    "\n",
    "x = np.arange(len(labels))  # the label locations\n",
    "width = 0.35  # the width of the bars\n",
    "\n",
    "fig, ax = plt.subplots(figsize=(8,6))\n",
    "rects1 = ax.bar(x - width/2, Baseline, width, label='Baseline', color = 'grey')\n",
    "rects2 = ax.bar(x + width/2, Tuned_model, width, label='Tuned', color = 'brown')\n",
    "\n",
    "# Add some text for labels, title and custom x-axis tick labels, etc.\n",
    "ax.set_ylabel('Scores', fontsize=18)\n",
    "ax.set_xlabel('Evaluation metrics', fontsize=18)\n",
    "ax.set_xticks(x)\n",
    "ax.set_xticklabels(labels,fontsize=18 )\n",
    "ax.legend(loc= \"upper left\",fontsize=10)\n",
    "\n",
    "\n",
    "def autolabel(rects):\n",
    "    \"\"\"Attach a text label above each bar in *rects*, displaying its height.\"\"\"\n",
    "    for rect in rects:\n",
    "        height = rect.get_height()\n",
    "        ax.annotate('{}'.format(height),\n",
    "                    xy=(rect.get_x() + rect.get_width() / 2, height),\n",
    "                    xytext=(0, 5),  # 3 points vertical offset\n",
    "                    textcoords=\"offset points\",\n",
    "                    ha='center', va='bottom')\n",
    "\n",
    "\n",
    "autolabel(rects1)\n",
    "autolabel(rects2)\n",
    "\n",
    "fig.tight_layout()\n",
    "plt.savefig(\"../reports/figures/evaluation_comparison.png\")\n",
    "\n",
    "plt.show()"
   ]
  },
  {
   "cell_type": "code",
   "execution_count": null,
   "metadata": {},
   "outputs": [],
   "source": []
  }
 ],
 "metadata": {
  "kernelspec": {
   "display_name": "insight",
   "language": "python",
   "name": "insight"
  },
  "language_info": {
   "codemirror_mode": {
    "name": "ipython",
    "version": 3
   },
   "file_extension": ".py",
   "mimetype": "text/x-python",
   "name": "python",
   "nbconvert_exporter": "python",
   "pygments_lexer": "ipython3",
   "version": "3.8.3"
  }
 },
 "nbformat": 4,
 "nbformat_minor": 4
}
