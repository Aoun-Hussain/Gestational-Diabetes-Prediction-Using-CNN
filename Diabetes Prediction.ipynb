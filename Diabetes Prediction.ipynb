{
 "cells": [
  {
   "cell_type": "markdown",
   "metadata": {},
   "source": [
    "# Diabetes Risk Prediction\n",
    "\n",
    "### 1. Diabetes mellitus\n",
    "\n",
    "[Diabetes mellitus](https://en.wikipedia.org/wiki/Diabetes) is a disease characterized by high blood sugar levels over long periods. If left untreated, it can result in serious medical complications, such as cardiovascular disease, chronic kidney disease, and even death. \n",
    "\n",
    "### 2. Prevalence of Diabetes, and Devising a Solution\n",
    "The prevalence of Diabetes in Singapore (10.5%) is not only higher than the world average (8.8%), but is also [ever increasing](https://www.healthhub.sg/a-z/diseases-and-conditions/626/diabetes). \n",
    "\n",
    "According to the World Health Organization (WHO), apart from prevention, [early diagnosis is one of the most effective ways](https://www.who.int/en/news-room/fact-sheets/detail/diabetes) to minimize the burden caused by diabetes. \n",
    "\n",
    "With this in mind, we are going to set out to construct a risk profile that measures an invidiual's susceptibility to the disease. The [dataset](https://www.kaggle.com/johndasilva/diabetes/downloads/diabetes.zip/1) we're going to work with was acquired from a hospital in Frankfurt, Germany. It contains a profile of health indicators such as BMI, Age, and Blood Glucose levels of individuals with and without Diabetes.\n",
    "\n",
    "### 3. Capitalizing on the effectiveness of Early Diagnosis\n",
    "Our objective here will be to train a predictive model using the available data to learn what the profile of a person afflicted with Diabetes looks like. This model will then receive the profile of an untested individual, and based on that person's health indicators, measure the similarity of their profile against that of a person with diabetes, and assign that person a value that represents their predicted risk of having Diabetes.\n",
    "\n",
    "Our end-goal is to better educate individuals on their diabetes risk factor, so the disease can be diagnosed and tackled earlier. The predictive model will serve as a means to impart (possibly life-saving) health literacy to its users.\n",
    "\n",
    "## Introduction\n",
    "\n",
    "We'll begin by reading and briefly exploring the `diabetes.csv` dataset."
   ]
  },
  {
   "cell_type": "code",
   "execution_count": 1,
   "metadata": {},
   "outputs": [
    {
     "name": "stdout",
     "output_type": "stream",
     "text": [
      "(2000, 9)\n"
     ]
    },
    {
     "data": {
      "text/html": [
       "<div>\n",
       "<style scoped>\n",
       "    .dataframe tbody tr th:only-of-type {\n",
       "        vertical-align: middle;\n",
       "    }\n",
       "\n",
       "    .dataframe tbody tr th {\n",
       "        vertical-align: top;\n",
       "    }\n",
       "\n",
       "    .dataframe thead th {\n",
       "        text-align: right;\n",
       "    }\n",
       "</style>\n",
       "<table border=\"1\" class=\"dataframe\">\n",
       "  <thead>\n",
       "    <tr style=\"text-align: right;\">\n",
       "      <th></th>\n",
       "      <th>Pregnancies</th>\n",
       "      <th>Glucose</th>\n",
       "      <th>BloodPressure</th>\n",
       "      <th>SkinThickness</th>\n",
       "      <th>Insulin</th>\n",
       "      <th>BMI</th>\n",
       "      <th>DiabetesPedigreeFunction</th>\n",
       "      <th>Age</th>\n",
       "      <th>Outcome</th>\n",
       "    </tr>\n",
       "  </thead>\n",
       "  <tbody>\n",
       "    <tr>\n",
       "      <th>0</th>\n",
       "      <td>2</td>\n",
       "      <td>138</td>\n",
       "      <td>62</td>\n",
       "      <td>35</td>\n",
       "      <td>0</td>\n",
       "      <td>33.6</td>\n",
       "      <td>0.127</td>\n",
       "      <td>47</td>\n",
       "      <td>1</td>\n",
       "    </tr>\n",
       "    <tr>\n",
       "      <th>1</th>\n",
       "      <td>0</td>\n",
       "      <td>84</td>\n",
       "      <td>82</td>\n",
       "      <td>31</td>\n",
       "      <td>125</td>\n",
       "      <td>38.2</td>\n",
       "      <td>0.233</td>\n",
       "      <td>23</td>\n",
       "      <td>0</td>\n",
       "    </tr>\n",
       "    <tr>\n",
       "      <th>2</th>\n",
       "      <td>0</td>\n",
       "      <td>145</td>\n",
       "      <td>0</td>\n",
       "      <td>0</td>\n",
       "      <td>0</td>\n",
       "      <td>44.2</td>\n",
       "      <td>0.630</td>\n",
       "      <td>31</td>\n",
       "      <td>1</td>\n",
       "    </tr>\n",
       "    <tr>\n",
       "      <th>3</th>\n",
       "      <td>0</td>\n",
       "      <td>135</td>\n",
       "      <td>68</td>\n",
       "      <td>42</td>\n",
       "      <td>250</td>\n",
       "      <td>42.3</td>\n",
       "      <td>0.365</td>\n",
       "      <td>24</td>\n",
       "      <td>1</td>\n",
       "    </tr>\n",
       "    <tr>\n",
       "      <th>4</th>\n",
       "      <td>1</td>\n",
       "      <td>139</td>\n",
       "      <td>62</td>\n",
       "      <td>41</td>\n",
       "      <td>480</td>\n",
       "      <td>40.7</td>\n",
       "      <td>0.536</td>\n",
       "      <td>21</td>\n",
       "      <td>0</td>\n",
       "    </tr>\n",
       "  </tbody>\n",
       "</table>\n",
       "</div>"
      ],
      "text/plain": [
       "   Pregnancies  Glucose  BloodPressure  SkinThickness  Insulin   BMI  \\\n",
       "0            2      138             62             35        0  33.6   \n",
       "1            0       84             82             31      125  38.2   \n",
       "2            0      145              0              0        0  44.2   \n",
       "3            0      135             68             42      250  42.3   \n",
       "4            1      139             62             41      480  40.7   \n",
       "\n",
       "   DiabetesPedigreeFunction  Age  Outcome  \n",
       "0                     0.127   47        1  \n",
       "1                     0.233   23        0  \n",
       "2                     0.630   31        1  \n",
       "3                     0.365   24        1  \n",
       "4                     0.536   21        0  "
      ]
     },
     "execution_count": 1,
     "metadata": {},
     "output_type": "execute_result"
    }
   ],
   "source": [
    "import numpy as np\n",
    "import pandas as pd\n",
    "\n",
    "diabetes = pd.read_csv('diabetes.csv')\n",
    "\n",
    "print(diabetes.shape)\n",
    "diabetes.head()"
   ]
  },
  {
   "cell_type": "code",
   "execution_count": 2,
   "metadata": {},
   "outputs": [
    {
     "name": "stdout",
     "output_type": "stream",
     "text": [
      "<class 'pandas.core.frame.DataFrame'>\n",
      "RangeIndex: 2000 entries, 0 to 1999\n",
      "Data columns (total 9 columns):\n",
      "Pregnancies                 2000 non-null int64\n",
      "Glucose                     2000 non-null int64\n",
      "BloodPressure               2000 non-null int64\n",
      "SkinThickness               2000 non-null int64\n",
      "Insulin                     2000 non-null int64\n",
      "BMI                         2000 non-null float64\n",
      "DiabetesPedigreeFunction    2000 non-null float64\n",
      "Age                         2000 non-null int64\n",
      "Outcome                     2000 non-null int64\n",
      "dtypes: float64(2), int64(7)\n",
      "memory usage: 140.7 KB\n"
     ]
    }
   ],
   "source": [
    "diabetes.info()"
   ]
  },
  {
   "cell_type": "markdown",
   "metadata": {},
   "source": [
    "We see that the dataset has 2000 rows and 9 columns.\n",
    "\n",
    "Let's go through what the columns mean:\n",
    "\n",
    "- Pregnancies - Number of Pregnancies the person has had.\n",
    "- Glucose - Blood Sugar levels (mg/DL)\n",
    "- BloodPressure - Measured Blood Pressure (mmHg)\n",
    "- SkinThickness - Skin Thickness (mm).\n",
    "- Insulin - Insulin Level\n",
    "- BMI - A person's [Body Mass Index](https://en.wikipedia.org/wiki/Body_mass_index)\n",
    "- DiabetesPedigreeFunction - Measures genetic influence (hereditary risk) of Diabetes\n",
    "- Age - Age of the person\n",
    "- Outcome - \"1\" represents a person with diabetes. \"0\" represents a healthy individual.\n",
    "\n",
    "### Visualizing Distribution of the Data\n",
    "\n",
    "Before proceeding with Data Cleaning, let's get a picture of values in all the above 9 columns are distributed."
   ]
  },
  {
   "cell_type": "code",
   "execution_count": 3,
   "metadata": {},
   "outputs": [
    {
     "data": {
      "image/png": "[encoded data removed]",
      "text/plain": [
       "<Figure size 1008x1008 with 9 Axes>"
      ]
     },
     "metadata": {
      "needs_background": "light"
     },
     "output_type": "display_data"
    }
   ],
   "source": [
    "%matplotlib inline\n",
    "import matplotlib.pyplot as plt\n",
    "\n",
    "\n",
    "# Making a list of col names:\n",
    "cols = diabetes.columns.tolist()\n",
    "\n",
    "fig = plt.figure(figsize=(14,14))\n",
    "for position, col in enumerate(cols):\n",
    "    ax = fig.add_subplot(3,3,position+1)\n",
    "    ax.hist(diabetes[col], bins=30)\n",
    "    plt.title(col)\n",
    "\n",
    "plt.show()"
   ]
  },
  {
   "cell_type": "markdown",
   "metadata": {},
   "source": [
    "Some columns, like `BMI` and `BloodPressure` look normally distributed.\n",
    "\n",
    "One thing that stands out to us is that there are values in the `BMI`, `BloodPressure`, `Insulin`, and `SkinThickness` columns that are zero. \n",
    "\n",
    "Because realistically the values of these things could not possibly be 0 for a person, it likely means that the data in that row was either recorded incorrectly, or not recorded at all.\n",
    "\n",
    "Let's also visualize the distribution of the data based on whether a person had diabetes.\n",
    "\n",
    "### Visualizing distribution of Data based on Diabetes outcome"
   ]
  },
  {
   "cell_type": "code",
   "execution_count": 4,
   "metadata": {},
   "outputs": [],
   "source": [
    "# Splitting dataframe\n",
    "\n",
    "with_diabetes = diabetes[diabetes['Outcome'] == 1]\n",
    "without_diabetes = diabetes[diabetes['Outcome'] == 0]"
   ]
  },
  {
   "cell_type": "code",
   "execution_count": 5,
   "metadata": {},
   "outputs": [
    {
     "data": {
      "image/png": "[encoded data removed]",
      "text/plain": [
       "<Figure size 1008x1008 with 9 Axes>"
      ]
     },
     "metadata": {
      "needs_background": "light"
     },
     "output_type": "display_data"
    }
   ],
   "source": [
    "fig = plt.figure(figsize=(14,14))\n",
    "for position, col in enumerate(cols):\n",
    "    ax = fig.add_subplot(3,3,position+1)\n",
    "    ax.hist(with_diabetes[col], histtype ='step', label='With Diabetes', bins = 20)\n",
    "    ax.hist(without_diabetes[col], histtype ='step', label = 'No Diabetes', bins=20)\n",
    "    ax.legend(loc=0)\n",
    "    plt.title(col)\n",
    "\n",
    "plt.show()"
   ]
  },
  {
   "cell_type": "markdown",
   "metadata": {},
   "source": [
    "We notice that people with diabetes on average tend to be older, unsurprisingly have higher blood glucose levels, and also have more pregnancies on average which might simply be because of the correlation with age, since an older person is more likely to have had more pregnancies than a younger person."
   ]
  },
  {
   "cell_type": "markdown",
   "metadata": {},
   "source": [
    "## Data Processing\n",
    "\n",
    "We want to clean the data to make it suitable to pass into a Machine Learning model. In particular, we should look out for the following things:\n",
    "- Duplicate entries\n",
    "- Incomplete Data (denoted by the several 0 values we saw above)\n",
    "- Outlier Data, or data that is very obviously incorrect.\n",
    "\n",
    "### Dropping Duplicate Rows\n",
    "First, we'll drop any duplicate rows.\n",
    "\n",
    "Because all the data we're working with is from the same hospital, it's extremely unlikely that two rows would be identical across every column. A better explanation would be that the data was incorrectly duplicated. We'll thus drop the duplicate columns."
   ]
  },
  {
   "cell_type": "code",
   "execution_count": 6,
   "metadata": {},
   "outputs": [
    {
     "data": {
      "text/plain": [
       "(744, 9)"
      ]
     },
     "execution_count": 6,
     "metadata": {},
     "output_type": "execute_result"
    }
   ],
   "source": [
    "diabetes = diabetes.drop_duplicates(keep='first')\n",
    "\n",
    "diabetes.shape"
   ]
  },
  {
   "cell_type": "markdown",
   "metadata": {},
   "source": [
    "We see that dropping the duplicate columns dramatically reduced the size of the `diabetes` dataframe, from 2000 rows down to only 744.\n",
    "\n",
    "### Handling incomplete Data\n",
    "\n",
    "In some rows, there were 0 values for columns like `BMI`, `BloodPressure`, `Insulin`, and `Glucose`. We'll drop rows that still contain values of 0 in these columns."
   ]
  },
  {
   "cell_type": "code",
   "execution_count": 7,
   "metadata": {},
   "outputs": [
    {
     "data": {
      "text/plain": [
       "(381, 9)"
      ]
     },
     "execution_count": 7,
     "metadata": {},
     "output_type": "execute_result"
    }
   ],
   "source": [
    "diabetes = diabetes.drop(diabetes[diabetes['BMI']==0].index) \n",
    "diabetes = diabetes.drop(diabetes[diabetes['BloodPressure']==0].index) \n",
    "diabetes = diabetes.drop(diabetes[diabetes['Insulin']==0].index)\n",
    "diabetes = diabetes.drop(diabetes[diabetes['Glucose']==0].index)\n",
    "diabetes = diabetes.drop(diabetes[diabetes['SkinThickness']==0].index)\n",
    "\n",
    "diabetes.shape"
   ]
  },
  {
   "cell_type": "markdown",
   "metadata": {},
   "source": [
    "Here, we see that we are further down to only 381 rows.\n",
    "\n",
    "The main thing left to do at this point is selecting the features intelligently.\n",
    "\n",
    "### Feature Selection\n",
    "\n",
    "The `Pregnancies` column contains information on number of pregnancies, but while there is a correlation between diabetes likelihood and number of pregnancies, our data-set does not actually distinguish between males and females. If, for instance, a male is more likely to have diabetes based on other indicators, we don't want the prediction for him having diabetes being marked down just because his number of `Pregnancies` is 0. To avoid the problem of the predictive model being confounded by this, we will get rid of the `Pregnancies` column. \n",
    "\n",
    "There is also the fact that we have very limited understanding on how the `DiabetesPedigreeFunction` column's values are determined. This column measures an individual's hereditary predisposition to diabetes. Realistically, it is not going to be possible for an individual to input this measurement into our predictive model. We'll thus drop this column as well."
   ]
  },
  {
   "cell_type": "code",
   "execution_count": 8,
   "metadata": {},
   "outputs": [
    {
     "name": "stdout",
     "output_type": "stream",
     "text": [
      "['Glucose', 'BloodPressure', 'SkinThickness', 'Insulin', 'BMI', 'Age']\n"
     ]
    }
   ],
   "source": [
    "features = cols.copy()\n",
    "features.remove('Outcome')\n",
    "features.remove('DiabetesPedigreeFunction')\n",
    "features.remove('Pregnancies')\n",
    "\n",
    "\n",
    "print(features)"
   ]
  },
  {
   "cell_type": "markdown",
   "metadata": {},
   "source": [
    "At this junction, we are good to move on to training the model.\n",
    "\n",
    "## Predictive Modelling - Logistic Regression\n",
    "\n",
    "We'll first use Logistic Regression.\n",
    "\n",
    "The error metric we'll be focusing on for now is accuracy (total correct predictions/total predictions).\n",
    "\n",
    "We will assess its accuracy with KFold Cross Validation, to use our data with maximum efficiency."
   ]
  },
  {
   "cell_type": "code",
   "execution_count": 9,
   "metadata": {},
   "outputs": [
    {
     "name": "stdout",
     "output_type": "stream",
     "text": [
      "[0.75       0.6875     0.75       0.87301587 0.79365079 0.79365079]\n",
      "The mean accuracy is: 0.7746362433862434\n"
     ]
    }
   ],
   "source": [
    "import warnings\n",
    "warnings.filterwarnings(\"ignore\")\n",
    "\n",
    "from sklearn.linear_model import LogisticRegression\n",
    "from sklearn.model_selection import cross_val_score\n",
    "from sklearn.metrics import accuracy_score\n",
    "from sklearn.model_selection import KFold\n",
    "\n",
    "# Instantiate the model\n",
    "weight = {\n",
    "    1:1.05,\n",
    "    0:1\n",
    "}\n",
    "log = LogisticRegression(class_weight = weight)\n",
    "\n",
    "kf = KFold(n_splits=6) \n",
    "score = cross_val_score(log, diabetes[features], diabetes['Outcome'], cv=kf, scoring='accuracy')\n",
    "print(score)\n",
    "print(\"The mean accuracy is:\",score.mean())"
   ]
  },
  {
   "cell_type": "markdown",
   "metadata": {},
   "source": [
    "Using KFold cross validation with slightly more weight placed on a positive check for Diabetes, with 6 folds, we get an accuracy of around 77-78%.\n",
    "\n",
    "We'll train this model on the entire data-set, and then enter in a custom values to see the probabilities of Diabetes assigned to us."
   ]
  },
  {
   "cell_type": "code",
   "execution_count": 10,
   "metadata": {},
   "outputs": [
    {
     "data": {
      "text/plain": [
       "array([[0.90168024, 0.09831976]])"
      ]
     },
     "execution_count": 10,
     "metadata": {},
     "output_type": "execute_result"
    }
   ],
   "source": [
    "weight = {\n",
    "    1:1.05,\n",
    "    0:1\n",
    "}\n",
    "\n",
    "log_model = LogisticRegression(class_weight = weight)\n",
    "log_model.fit(diabetes[features], diabetes['Outcome'])\n",
    "log_model.predict_proba(np.array(diabetes[features].iloc[0]).reshape(1, -1))"
   ]
  },
  {
   "cell_type": "code",
   "execution_count": 11,
   "metadata": {},
   "outputs": [
    {
     "data": {
      "text/plain": [
       "Glucose           84.0\n",
       "BloodPressure     82.0\n",
       "SkinThickness     31.0\n",
       "Insulin          125.0\n",
       "BMI               38.2\n",
       "Age               23.0\n",
       "Name: 1, dtype: float64"
      ]
     },
     "execution_count": 11,
     "metadata": {},
     "output_type": "execute_result"
    }
   ],
   "source": [
    "diabetes[features].iloc[0]"
   ]
  },
  {
   "cell_type": "code",
   "execution_count": 12,
   "metadata": {},
   "outputs": [
    {
     "data": {
      "text/plain": [
       "0.951025775184868"
      ]
     },
     "execution_count": 12,
     "metadata": {},
     "output_type": "execute_result"
    }
   ],
   "source": [
    "testing1 = [120,10,100,190,50,60]\n",
    "features\n",
    "\n",
    "log_model.predict_proba(np.array(testing1).reshape(1, -1))[0,1]"
   ]
  },
  {
   "cell_type": "code",
   "execution_count": 13,
   "metadata": {},
   "outputs": [
    {
     "data": {
      "text/plain": [
       "['Glucose', 'BloodPressure', 'SkinThickness', 'Insulin', 'BMI', 'Age']"
      ]
     },
     "execution_count": 13,
     "metadata": {},
     "output_type": "execute_result"
    }
   ],
   "source": [
    "features"
   ]
  },
  {
   "cell_type": "markdown",
   "metadata": {},
   "source": [
    "Now, we'll define a function receives inputs for the 6 feature columns, and then returns a Diabetes risk index."
   ]
  },
  {
   "cell_type": "code",
   "execution_count": 39,
   "metadata": {},
   "outputs": [
    {
     "name": "stdout",
     "output_type": "stream",
     "text": [
      "-------------------------\n",
      "Health Indicator Analysis\n",
      "-------------------------\n",
      "You are probably in good health, keep it up.\n",
      "Your Diabetes Risk Index is 11.45/50.\n"
     ]
    }
   ],
   "source": [
    "def diabetes_risk_prediction(glucose, bp, skinthickness, insulin, bmi, age):\n",
    "    indicator_list = [glucose, bp, skinthickness, insulin, bmi, age]\n",
    "    predictions = log_model.predict_proba(np.array(indicator_list).reshape(1, -1))\n",
    "    risk = predictions[0,1]\n",
    "    print(\"-\"*len(\"Health Indicator Analysis\"))\n",
    "    print(\"Health Indicator Analysis\")\n",
    "    print(\"-\"*len(\"Health Indicator Analysis\"))   \n",
    "    if risk < 0.3:\n",
    "        print(\"You are probably in good health, keep it up.\")\n",
    "\n",
    "        #print(\"-\"*len(\"You are probably in good health, keep it up\"))\n",
    "    elif risk > 0.7:\n",
    "        print(\"See a doctor as soon as you can and listen to their recommendations. You might be on the way to developing diabetes if you don't change your lifestyle.\")\n",
    "        \n",
    "    elif risk > 0.9:\n",
    "        print(\"Go to a hospital right away. Odds are high you have diabetes.\")\n",
    "    else:\n",
    "        print(\"You should be alright for the most part, but take care not to let your health slip.\")\n",
    "    return print(\"Your Diabetes Risk Index is {:.2f}/50.\".format(risk*0.5*100))\n",
    "    \n",
    "diabetes_risk_prediction(90,80,30,120,60,50)"
   ]
  },
  {
   "cell_type": "markdown",
   "metadata": {},
   "source": [
    "We'll expand slightly on the function above. Now, it will not only receive all those inputs, but also re-instantiate the logistics regression and model and re-fit the data."
   ]
  },
  {
   "cell_type": "code",
   "execution_count": 15,
   "metadata": {},
   "outputs": [
    {
     "data": {
      "text/plain": [
       "0.2713386277845828"
      ]
     },
     "execution_count": 15,
     "metadata": {},
     "output_type": "execute_result"
    }
   ],
   "source": [
    "def diabetes_risk_prediction2(glucose, bp, skinthickness, insulin, bmi, age):\n",
    "    weight = {\n",
    "    1:1.05,\n",
    "    0:1}\n",
    "\n",
    "    log_model2 = LogisticRegression(class_weight = weight)\n",
    "    log_model2.fit(diabetes[features], diabetes['Outcome'])\n",
    "    \n",
    "    indicator_list = [glucose, bp, skinthickness, insulin, bmi, age]\n",
    "    predictions = log_model2.predict_proba(np.array(indicator_list).reshape(1, -1))\n",
    "    risk = predictions[0,1]\n",
    "    return risk\n",
    "\n",
    "diabetes_risk_prediction2(100,80,30,120,30,45) #Test array."
   ]
  },
  {
   "cell_type": "markdown",
   "metadata": {},
   "source": [
    "## Taking User Inputs and generating a Risk Index"
   ]
  },
  {
   "cell_type": "code",
   "execution_count": 38,
   "metadata": {},
   "outputs": [
    {
     "name": "stdout",
     "output_type": "stream",
     "text": [
      "Enter your Blood Glucose Level (mg/DL):\n",
      "100\n",
      "Enter your Blood Pressure (mmHg):\n",
      "60\n",
      "Enter your Skin Thickness (mm):\n",
      "20\n",
      "Enter your Insulin Level (mg/DL):\n",
      "130\n",
      "Enter your BMI:\n",
      "27\n",
      "Enter your Age (Years):\n",
      "25\n",
      "Health Indicator Analysis\n",
      "-------------------------\n",
      "You are probably in good health, keep it up.\n",
      "Your Diabetes Risk Index is 7.92/50.\n"
     ]
    }
   ],
   "source": [
    "while True:\n",
    "    try:\n",
    "        while True:\n",
    "            Glucose = int(input(\"Enter your Blood Glucose Level (mg/DL):\\n\"))\n",
    "            if Glucose > 0:\n",
    "                    break\n",
    "            else:\n",
    "                print(\"Please enter a valid value\")\n",
    "        break\n",
    "    except (ValueError, NameError):# if the input is invalid \n",
    "        print(\"Invalid input! Please choose again.\") #prompts user to input valid action\n",
    "        continue\n",
    "\n",
    "while True:\n",
    "    try:\n",
    "        while True:\n",
    "            BloodPressure = int(input(\"Enter your Blood Pressure (mmHg):\\n\"))\n",
    "            if BloodPressure > 0:\n",
    "                    break\n",
    "            else:\n",
    "                print(\"Please enter a valid value\")\n",
    "        break\n",
    "    except (ValueError, NameError):# if the input is invalid \n",
    "        print(\"Invalid input! Please choose again.\") #prompts user to input valid action\n",
    "        continue\n",
    "        \n",
    "while True:\n",
    "    try:\n",
    "        while True:\n",
    "            SkinThickness = int(input(\"Enter your Skin Thickness (mm):\\n\"))\n",
    "            if SkinThickness > 0:\n",
    "                    break\n",
    "            else:\n",
    "                print(\"Please enter a valid value\")\n",
    "        break\n",
    "    except (ValueError, NameError):# if the input is invalid \n",
    "        print(\"Invalid input! Please choose again.\") #prompts user to input valid action\n",
    "        continue\n",
    "        \n",
    "while True:\n",
    "    try:\n",
    "        while True:\n",
    "            Insulin = int(input(\"Enter your Insulin Level (mg/DL):\\n\"))\n",
    "            if Insulin > 0:\n",
    "                    break\n",
    "            else:\n",
    "                print(\"Please enter a valid value\")\n",
    "        break\n",
    "    except (ValueError, NameError):# if the input is invalid \n",
    "        print(\"Invalid input! Please choose again.\") #prompts user to input valid action\n",
    "        continue\n",
    "        \n",
    "\n",
    "while True:\n",
    "    try:\n",
    "        while True:\n",
    "            BMI = int(input(\"Enter your BMI:\\n\"))\n",
    "            if BMI > 0:\n",
    "                    break\n",
    "            else:\n",
    "                print(\"Please enter a valid value\")\n",
    "        break\n",
    "    except (ValueError, NameError):# if the input is invalid \n",
    "        print(\"Invalid input! Please choose again.\") #prompts user to input valid action\n",
    "        continue    \n",
    "\n",
    "while True:\n",
    "    try:\n",
    "        while True:\n",
    "            Age = int(input(\"Enter your Age (Years):\\n\"))\n",
    "            if Age > 0:\n",
    "                    break\n",
    "            else:\n",
    "                print(\"Please enter a valid value\")\n",
    "        break\n",
    "    except (ValueError, NameError):# if the input is invalid \n",
    "        print(\"Invalid input! Please choose again.\") #prompts user to input valid action\n",
    "        continue\n",
    "        \n",
    "diabetes_risk_prediction(Glucose,BloodPressure,SkinThickness,Insulin,BMI,Age)"
   ]
  },
  {
   "cell_type": "markdown",
   "metadata": {},
   "source": [
    "### Future Work"
   ]
  },
  {
   "cell_type": "markdown",
   "metadata": {},
   "source": [
    "Some future improvements to improve our predictive accuracy could be:\n",
    "- Use an error metric other than accuracy score, like f1 score or precision.\n",
    "- Use domain knowledge (acquired from a Doctor or more qualified person) to make better choices about feature engineering.\n",
    "- Doing the prediction with algorithms like Neural Networks instead. \n",
    "- Using a larger data-set - ideally one from Singapore."
   ]
  }
 ],
 "metadata": {
  "kernelspec": {
   "display_name": "Python 3",
   "language": "python",
   "name": "python3"
  },
  "language_info": {
   "codemirror_mode": {
    "name": "ipython",
    "version": 3
   },
   "file_extension": ".py",
   "mimetype": "text/x-python",
   "name": "python",
   "nbconvert_exporter": "python",
   "pygments_lexer": "ipython3",
   "version": "3.7.3"
  }
 },
 "nbformat": 4,
 "nbformat_minor": 2
}
